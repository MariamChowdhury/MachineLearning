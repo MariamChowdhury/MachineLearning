{
  "nbformat": 4,
  "nbformat_minor": 0,
  "metadata": {
    "colab": {
      "provenance": [],
      "authorship_tag": "ABX9TyMQ7uStK1960isqAJWRH6ro",
      "include_colab_link": true
    },
    "kernelspec": {
      "name": "python3",
      "display_name": "Python 3"
    },
    "language_info": {
      "name": "python"
    }
  },
  "cells": [
    {
      "cell_type": "markdown",
      "metadata": {
        "id": "view-in-github",
        "colab_type": "text"
      },
      "source": [
        "<a href=\"https://colab.research.google.com/github/MariamChowdhury/MachineLearning/blob/main/Numpy.ipynb\" target=\"_parent\"><img src=\"https://colab.research.google.com/assets/colab-badge.svg\" alt=\"Open In Colab\"/></a>"
      ]
    },
    {
      "cell_type": "markdown",
      "source": [
        "# Import"
      ],
      "metadata": {
        "id": "kiSaFXQ0lLox"
      }
    },
    {
      "cell_type": "code",
      "source": [
        "# https://numpy.org/doc/stable/user/absolute_beginners.html\n",
        "import numpy as np"
      ],
      "metadata": {
        "id": "FbMh2yUWlcin"
      },
      "execution_count": 1,
      "outputs": []
    },
    {
      "cell_type": "markdown",
      "source": [
        "# CRUD "
      ],
      "metadata": {
        "id": "sOcEkbrOjcsh"
      }
    },
    {
      "cell_type": "markdown",
      "source": [
        "*Create*"
      ],
      "metadata": {
        "id": "9FN-13JXjjww"
      }
    },
    {
      "cell_type": "code",
      "source": [
        "#creating 2 random arrays 3 by 5\n",
        "data = np.random.rand(2,3,5)\n",
        "#creating arrays with 0 only\n",
        "zeroes = np.zeros((2,2,2))\n",
        "#creating a full array with a specific number \n",
        "full = np.full((2,2,2), 7)\n",
        "#creating arrays with 1 only\n",
        "ones = np.ones((2,2,2))"
      ],
      "metadata": {
        "id": "Z9R4fVEOj1DO"
      },
      "execution_count": 18,
      "outputs": []
    },
    {
      "cell_type": "code",
      "source": [
        "data"
      ],
      "metadata": {
        "colab": {
          "base_uri": "https://localhost:8080/"
        },
        "id": "y6jyDKBosaXZ",
        "outputId": "9ee24903-a2d0-4c82-fa09-8cbebfb35952"
      },
      "execution_count": 19,
      "outputs": [
        {
          "output_type": "execute_result",
          "data": {
            "text/plain": [
              "array([[[0.99162299, 0.23686154, 0.63280083, 0.0696828 , 0.22850046],\n",
              "        [0.45583646, 0.34222679, 0.00246285, 0.45457106, 0.33385532],\n",
              "        [0.70765803, 0.80024231, 0.65934155, 0.86086907, 0.32969526]],\n",
              "\n",
              "       [[0.88706954, 0.97051455, 0.51986979, 0.85830189, 0.92717848],\n",
              "        [0.83276533, 0.45529882, 0.31619456, 0.30521521, 0.99510056],\n",
              "        [0.38784228, 0.20864437, 0.07385357, 0.60720639, 0.39074924]]])"
            ]
          },
          "metadata": {},
          "execution_count": 19
        }
      ]
    },
    {
      "cell_type": "code",
      "source": [
        "zeroes"
      ],
      "metadata": {
        "colab": {
          "base_uri": "https://localhost:8080/"
        },
        "id": "dlLw1VOzsdws",
        "outputId": "39b0c14d-583f-44ec-f487-6ad8d46e6723"
      },
      "execution_count": 21,
      "outputs": [
        {
          "output_type": "execute_result",
          "data": {
            "text/plain": [
              "array([[[0., 0.],\n",
              "        [0., 0.]],\n",
              "\n",
              "       [[0., 0.],\n",
              "        [0., 0.]]])"
            ]
          },
          "metadata": {},
          "execution_count": 21
        }
      ]
    },
    {
      "cell_type": "code",
      "source": [
        "full"
      ],
      "metadata": {
        "colab": {
          "base_uri": "https://localhost:8080/"
        },
        "id": "gNfRlIfOskgQ",
        "outputId": "7c534a8d-8713-41c2-f22e-6346eb99d4ab"
      },
      "execution_count": 22,
      "outputs": [
        {
          "output_type": "execute_result",
          "data": {
            "text/plain": [
              "array([[[7, 7],\n",
              "        [7, 7]],\n",
              "\n",
              "       [[7, 7],\n",
              "        [7, 7]]])"
            ]
          },
          "metadata": {},
          "execution_count": 22
        }
      ]
    },
    {
      "cell_type": "code",
      "source": [
        "ones"
      ],
      "metadata": {
        "colab": {
          "base_uri": "https://localhost:8080/"
        },
        "id": "GihD44eDsmz4",
        "outputId": "b3c1cd4e-cfff-479b-c59a-2c08030f6ab4"
      },
      "execution_count": 23,
      "outputs": [
        {
          "output_type": "execute_result",
          "data": {
            "text/plain": [
              "array([[[1., 1.],\n",
              "        [1., 1.]],\n",
              "\n",
              "       [[1., 1.],\n",
              "        [1., 1.]]])"
            ]
          },
          "metadata": {},
          "execution_count": 23
        }
      ]
    },
    {
      "cell_type": "code",
      "source": [
        "#creating new arrays with values\n",
        "list1=[1,2,3,4,5]\n",
        "np.array(list1)\n",
        "##1D array => 1[]"
      ],
      "metadata": {
        "colab": {
          "base_uri": "https://localhost:8080/"
        },
        "id": "zaz_hVrFsx5G",
        "outputId": "b313a608-a396-42c6-ea00-62297a100052"
      },
      "execution_count": 25,
      "outputs": [
        {
          "output_type": "execute_result",
          "data": {
            "text/plain": [
              "array([1, 2, 3, 4, 5])"
            ]
          },
          "metadata": {},
          "execution_count": 25
        }
      ]
    },
    {
      "cell_type": "code",
      "source": [
        "type(list1)"
      ],
      "metadata": {
        "colab": {
          "base_uri": "https://localhost:8080/"
        },
        "id": "gykXdI31s5VL",
        "outputId": "dce7d142-9722-4d22-f32c-3ff14e41f1a1"
      },
      "execution_count": 26,
      "outputs": [
        {
          "output_type": "execute_result",
          "data": {
            "text/plain": [
              "list"
            ]
          },
          "metadata": {},
          "execution_count": 26
        }
      ]
    },
    {
      "cell_type": "code",
      "source": [
        "type(np.array(list1))"
      ],
      "metadata": {
        "colab": {
          "base_uri": "https://localhost:8080/"
        },
        "id": "X3xb5QU2s9G6",
        "outputId": "4cafcbb9-8294-4fe2-f7cb-2df69c573630"
      },
      "execution_count": 27,
      "outputs": [
        {
          "output_type": "execute_result",
          "data": {
            "text/plain": [
              "numpy.ndarray"
            ]
          },
          "metadata": {},
          "execution_count": 27
        }
      ]
    },
    {
      "cell_type": "code",
      "source": [
        "list2=[1,2,3,4,5]\n",
        "list3=[1,2,3,4,5]\n",
        "array2=np.array([list1,list2,list3])\n",
        "array2 #2D array => 2[]"
      ],
      "metadata": {
        "colab": {
          "base_uri": "https://localhost:8080/"
        },
        "id": "Uf1HbH3LtRZV",
        "outputId": "3fcba767-461f-4533-9b65-ba6dda36f54c"
      },
      "execution_count": 28,
      "outputs": [
        {
          "output_type": "execute_result",
          "data": {
            "text/plain": [
              "array([[1, 2, 3, 4, 5],\n",
              "       [1, 2, 3, 4, 5],\n",
              "       [1, 2, 3, 4, 5]])"
            ]
          },
          "metadata": {},
          "execution_count": 28
        }
      ]
    },
    {
      "cell_type": "markdown",
      "source": [
        "*Read*"
      ],
      "metadata": {
        "id": "Q_dgvTS4joJc"
      }
    },
    {
      "cell_type": "code",
      "source": [
        "data=np.random.rand(1,3,5)"
      ],
      "metadata": {
        "id": "pBo0xKy9todC"
      },
      "execution_count": 29,
      "outputs": []
    },
    {
      "cell_type": "code",
      "source": [
        "# Attributes\n",
        "shape = data.shape\n",
        "size = data.size\n",
        "types = data.dtype"
      ],
      "metadata": {
        "id": "wSKRbNFOtmrZ"
      },
      "execution_count": 30,
      "outputs": []
    },
    {
      "cell_type": "code",
      "source": [
        "shape"
      ],
      "metadata": {
        "colab": {
          "base_uri": "https://localhost:8080/"
        },
        "id": "rUTknDaQtw-O",
        "outputId": "28268f96-2699-4671-d267-b9ba82142967"
      },
      "execution_count": 31,
      "outputs": [
        {
          "output_type": "execute_result",
          "data": {
            "text/plain": [
              "(1, 3, 5)"
            ]
          },
          "metadata": {},
          "execution_count": 31
        }
      ]
    },
    {
      "cell_type": "code",
      "source": [
        "# r*c\n",
        "size"
      ],
      "metadata": {
        "colab": {
          "base_uri": "https://localhost:8080/"
        },
        "id": "uZ4hhtfctyxV",
        "outputId": "63f0b585-e3a0-4448-d1a9-cd129caa64ea"
      },
      "execution_count": 32,
      "outputs": [
        {
          "output_type": "execute_result",
          "data": {
            "text/plain": [
              "15"
            ]
          },
          "metadata": {},
          "execution_count": 32
        }
      ]
    },
    {
      "cell_type": "code",
      "source": [
        "types"
      ],
      "metadata": {
        "colab": {
          "base_uri": "https://localhost:8080/"
        },
        "id": "T8ruL2eSt4EF",
        "outputId": "09140390-3530-4a83-8951-e3e415e3d1c2"
      },
      "execution_count": 33,
      "outputs": [
        {
          "output_type": "execute_result",
          "data": {
            "text/plain": [
              "dtype('float64')"
            ]
          },
          "metadata": {},
          "execution_count": 33
        }
      ]
    },
    {
      "cell_type": "code",
      "source": [
        "data"
      ],
      "metadata": {
        "colab": {
          "base_uri": "https://localhost:8080/"
        },
        "id": "C2gHPat2t9uA",
        "outputId": "94a4dfc8-630b-4392-92b3-a0e15df99d77"
      },
      "execution_count": 34,
      "outputs": [
        {
          "output_type": "execute_result",
          "data": {
            "text/plain": [
              "array([[[0.05627218, 0.56373468, 0.04872591, 0.87169425, 0.54688701],\n",
              "        [0.72563873, 0.67095214, 0.50124319, 0.8314535 , 0.9373052 ],\n",
              "        [0.25694676, 0.01050432, 0.05147826, 0.09991672, 0.05033639]]])"
            ]
          },
          "metadata": {},
          "execution_count": 34
        }
      ]
    },
    {
      "cell_type": "code",
      "source": [
        "# Slicing (check doc)\n",
        "arr = data[0]\n",
        "slicer = data[0][0:2]\n",
        "reverse = data[-1]\n",
        "singleval = data[0][0][0]"
      ],
      "metadata": {
        "id": "f5Xqj9mAuALc"
      },
      "execution_count": 35,
      "outputs": []
    },
    {
      "cell_type": "code",
      "source": [
        "data[0][0][0] = 500"
      ],
      "metadata": {
        "id": "JqBwm1jHwHZD"
      },
      "execution_count": 60,
      "outputs": []
    },
    {
      "cell_type": "code",
      "source": [
        "data"
      ],
      "metadata": {
        "colab": {
          "base_uri": "https://localhost:8080/"
        },
        "id": "FMeqFqEUwSCV",
        "outputId": "bf0d8387-add4-4736-d20d-01926ea922dc"
      },
      "execution_count": 61,
      "outputs": [
        {
          "output_type": "execute_result",
          "data": {
            "text/plain": [
              "array([[[5.00000000e+02, 5.63734681e-01, 4.87259093e-02, 8.71694249e-01,\n",
              "         5.46887008e-01],\n",
              "        [7.25638732e-01, 6.70952138e-01, 5.01243185e-01, 8.31453499e-01,\n",
              "         9.37305195e-01],\n",
              "        [2.56946757e-01, 1.05043227e-02, 5.14782554e-02, 9.99167153e-02,\n",
              "         5.03363874e-02]]])"
            ]
          },
          "metadata": {},
          "execution_count": 61
        }
      ]
    },
    {
      "cell_type": "markdown",
      "source": [
        "*Update*"
      ],
      "metadata": {
        "id": "TN_V6kiKjtqW"
      }
    },
    {
      "cell_type": "code",
      "source": [
        "list1 = np.random.rand(5) \n",
        "list2 = np.random.rand(5) "
      ],
      "metadata": {
        "id": "Wubp60WjuRm7"
      },
      "execution_count": 40,
      "outputs": []
    },
    {
      "cell_type": "code",
      "source": [
        "list1"
      ],
      "metadata": {
        "colab": {
          "base_uri": "https://localhost:8080/"
        },
        "id": "ZZCGbTzRuW5Q",
        "outputId": "4df3d93e-92f2-475d-c168-43eb8e78a00a"
      },
      "execution_count": 41,
      "outputs": [
        {
          "output_type": "execute_result",
          "data": {
            "text/plain": [
              "array([0.41841745, 0.00950895, 0.45927659, 0.67955989, 0.7699797 ])"
            ]
          },
          "metadata": {},
          "execution_count": 41
        }
      ]
    },
    {
      "cell_type": "code",
      "source": [
        "list2"
      ],
      "metadata": {
        "colab": {
          "base_uri": "https://localhost:8080/"
        },
        "id": "bC6PgVg3uYr8",
        "outputId": "ca9bd148-e06d-4495-9707-aa31357e8e37"
      },
      "execution_count": 42,
      "outputs": [
        {
          "output_type": "execute_result",
          "data": {
            "text/plain": [
              "array([0.34433957, 0.44049593, 0.79218965, 0.67909533, 0.5655207 ])"
            ]
          },
          "metadata": {},
          "execution_count": 42
        }
      ]
    },
    {
      "cell_type": "code",
      "source": [
        "# Basic Math\n",
        "add = np.add(list1, list2)\n",
        "sub = np.subtract(list1, list2)\n",
        "div = np.divide(list1, list2)\n",
        "mult = np.multiply(list1, list2)\n",
        "dot = np.dot(list1, list2)"
      ],
      "metadata": {
        "id": "y8O4Ou26uPpE"
      },
      "execution_count": 43,
      "outputs": []
    },
    {
      "cell_type": "code",
      "source": [
        "add"
      ],
      "metadata": {
        "colab": {
          "base_uri": "https://localhost:8080/"
        },
        "id": "6ihavP4DuhUh",
        "outputId": "ef66e88a-eaa3-468e-e0e5-e18ad42c1e5b"
      },
      "execution_count": 44,
      "outputs": [
        {
          "output_type": "execute_result",
          "data": {
            "text/plain": [
              "array([0.76275701, 0.45000488, 1.25146624, 1.35865522, 1.3355004 ])"
            ]
          },
          "metadata": {},
          "execution_count": 44
        }
      ]
    },
    {
      "cell_type": "code",
      "source": [
        "sub"
      ],
      "metadata": {
        "colab": {
          "base_uri": "https://localhost:8080/"
        },
        "id": "1Xa9blSgui1-",
        "outputId": "6ac6952b-252f-4c5c-9b33-0f0661148cb6"
      },
      "execution_count": 45,
      "outputs": [
        {
          "output_type": "execute_result",
          "data": {
            "text/plain": [
              "array([ 0.07407788, -0.43098698, -0.33291306,  0.00046456,  0.20445901])"
            ]
          },
          "metadata": {},
          "execution_count": 45
        }
      ]
    },
    {
      "cell_type": "code",
      "source": [
        "div"
      ],
      "metadata": {
        "colab": {
          "base_uri": "https://localhost:8080/"
        },
        "id": "Mx-EZWtRukBV",
        "outputId": "b8fa189c-e17c-4893-8dae-7ed6e785c4d9"
      },
      "execution_count": 46,
      "outputs": [
        {
          "output_type": "execute_result",
          "data": {
            "text/plain": [
              "array([1.21513032, 0.02158692, 0.57975585, 1.00068409, 1.36154116])"
            ]
          },
          "metadata": {},
          "execution_count": 46
        }
      ]
    },
    {
      "cell_type": "code",
      "source": [
        "mult"
      ],
      "metadata": {
        "colab": {
          "base_uri": "https://localhost:8080/"
        },
        "id": "Xz937VY6ulKk",
        "outputId": "f0ed626f-88d4-413c-fea8-1d2af7a22d37"
      },
      "execution_count": 47,
      "outputs": [
        {
          "output_type": "execute_result",
          "data": {
            "text/plain": [
              "array([0.14407768, 0.00418865, 0.36383416, 0.46148595, 0.43543946])"
            ]
          },
          "metadata": {},
          "execution_count": 47
        }
      ]
    },
    {
      "cell_type": "code",
      "source": [
        "dot"
      ],
      "metadata": {
        "colab": {
          "base_uri": "https://localhost:8080/"
        },
        "id": "IRDrFVmRum4_",
        "outputId": "5e277b9c-38a4-46c4-cdfb-7b3ff2f78428"
      },
      "execution_count": 48,
      "outputs": [
        {
          "output_type": "execute_result",
          "data": {
            "text/plain": [
              "1.4090259054450966"
            ]
          },
          "metadata": {},
          "execution_count": 48
        }
      ]
    },
    {
      "cell_type": "code",
      "source": [
        "# Stat Functions (remember SAP LEMM)\n",
        "sqrt = np.sqrt(25)\n",
        "ab = np.abs(-2)\n",
        "power = np.power(2,7)\n",
        "log = np.log(25)\n",
        "exp = np.exp([2,3])\n",
        "mins = np.min(list1)\n",
        "maxs = np.max(list1)"
      ],
      "metadata": {
        "id": "c8mF-A5JurFg"
      },
      "execution_count": 49,
      "outputs": []
    },
    {
      "cell_type": "code",
      "source": [
        "list3=np.random.rand(3,5)"
      ],
      "metadata": {
        "id": "ZxszMfvivHaJ"
      },
      "execution_count": 51,
      "outputs": []
    },
    {
      "cell_type": "code",
      "source": [
        "list3"
      ],
      "metadata": {
        "colab": {
          "base_uri": "https://localhost:8080/"
        },
        "id": "yDIq9v2FvOKy",
        "outputId": "60854681-e969-410f-c3be-cccaad97e9ef"
      },
      "execution_count": 52,
      "outputs": [
        {
          "output_type": "execute_result",
          "data": {
            "text/plain": [
              "array([[0.11356796, 0.18779587, 0.46804111, 0.94707916, 0.17336731],\n",
              "       [0.09206319, 0.66542816, 0.55398044, 0.43540512, 0.81792656],\n",
              "       [0.69533797, 0.19281966, 0.90537587, 0.29927435, 0.58176141]])"
            ]
          },
          "metadata": {},
          "execution_count": 52
        }
      ]
    },
    {
      "cell_type": "code",
      "source": [
        "list3.reshape(5,3)"
      ],
      "metadata": {
        "colab": {
          "base_uri": "https://localhost:8080/"
        },
        "id": "oyg2iX-Ru_i5",
        "outputId": "630c34f4-e360-4ee4-a059-0e5ed3adc48c"
      },
      "execution_count": 53,
      "outputs": [
        {
          "output_type": "execute_result",
          "data": {
            "text/plain": [
              "array([[0.11356796, 0.18779587, 0.46804111],\n",
              "       [0.94707916, 0.17336731, 0.09206319],\n",
              "       [0.66542816, 0.55398044, 0.43540512],\n",
              "       [0.81792656, 0.69533797, 0.19281966],\n",
              "       [0.90537587, 0.29927435, 0.58176141]])"
            ]
          },
          "metadata": {},
          "execution_count": 53
        }
      ]
    },
    {
      "cell_type": "code",
      "source": [
        "list3.reshape(15,1)"
      ],
      "metadata": {
        "colab": {
          "base_uri": "https://localhost:8080/"
        },
        "id": "ZvclpCdBvV1r",
        "outputId": "05c970c9-4d5c-478c-fc91-998dcf2c88f7"
      },
      "execution_count": 54,
      "outputs": [
        {
          "output_type": "execute_result",
          "data": {
            "text/plain": [
              "array([[0.11356796],\n",
              "       [0.18779587],\n",
              "       [0.46804111],\n",
              "       [0.94707916],\n",
              "       [0.17336731],\n",
              "       [0.09206319],\n",
              "       [0.66542816],\n",
              "       [0.55398044],\n",
              "       [0.43540512],\n",
              "       [0.81792656],\n",
              "       [0.69533797],\n",
              "       [0.19281966],\n",
              "       [0.90537587],\n",
              "       [0.29927435],\n",
              "       [0.58176141]])"
            ]
          },
          "metadata": {},
          "execution_count": 54
        }
      ]
    },
    {
      "cell_type": "code",
      "source": [
        "list3.reshape(15,3)"
      ],
      "metadata": {
        "colab": {
          "base_uri": "https://localhost:8080/",
          "height": 171
        },
        "id": "inW8snJBvYb_",
        "outputId": "a4fc47d9-9151-4aa9-afe1-8cb3f8d5835c"
      },
      "execution_count": 55,
      "outputs": [
        {
          "output_type": "error",
          "ename": "ValueError",
          "evalue": "ignored",
          "traceback": [
            "\u001b[0;31m---------------------------------------------------------------------------\u001b[0m",
            "\u001b[0;31mValueError\u001b[0m                                Traceback (most recent call last)",
            "\u001b[0;32m<ipython-input-55-ea85c385d5ae>\u001b[0m in \u001b[0;36m<module>\u001b[0;34m\u001b[0m\n\u001b[0;32m----> 1\u001b[0;31m \u001b[0mlist3\u001b[0m\u001b[0;34m.\u001b[0m\u001b[0mreshape\u001b[0m\u001b[0;34m(\u001b[0m\u001b[0;36m15\u001b[0m\u001b[0;34m,\u001b[0m\u001b[0;36m3\u001b[0m\u001b[0;34m)\u001b[0m\u001b[0;34m\u001b[0m\u001b[0;34m\u001b[0m\u001b[0m\n\u001b[0m",
            "\u001b[0;31mValueError\u001b[0m: cannot reshape array of size 15 into shape (15,3)"
          ]
        }
      ]
    },
    {
      "cell_type": "markdown",
      "source": [
        "*Delete*"
      ],
      "metadata": {
        "id": "AgTq2rDmjxdO"
      }
    },
    {
      "cell_type": "code",
      "source": [
        "data"
      ],
      "metadata": {
        "colab": {
          "base_uri": "https://localhost:8080/"
        },
        "id": "nTw0w4rywVMK",
        "outputId": "b3bee303-f9c3-47fe-dec1-a525d0d49956"
      },
      "execution_count": 62,
      "outputs": [
        {
          "output_type": "execute_result",
          "data": {
            "text/plain": [
              "array([[[5.00000000e+02, 5.63734681e-01, 4.87259093e-02, 8.71694249e-01,\n",
              "         5.46887008e-01],\n",
              "        [7.25638732e-01, 6.70952138e-01, 5.01243185e-01, 8.31453499e-01,\n",
              "         9.37305195e-01],\n",
              "        [2.56946757e-01, 1.05043227e-02, 5.14782554e-02, 9.99167153e-02,\n",
              "         5.03363874e-02]]])"
            ]
          },
          "metadata": {},
          "execution_count": 62
        }
      ]
    },
    {
      "cell_type": "code",
      "source": [
        "np.delete(data, 0, axis=1)"
      ],
      "metadata": {
        "colab": {
          "base_uri": "https://localhost:8080/"
        },
        "id": "mqD5UMNpwY-Z",
        "outputId": "4cbd0197-bbf5-4155-e3c1-0683442082f9"
      },
      "execution_count": 63,
      "outputs": [
        {
          "output_type": "execute_result",
          "data": {
            "text/plain": [
              "array([[[0.72563873, 0.67095214, 0.50124319, 0.8314535 , 0.9373052 ],\n",
              "        [0.25694676, 0.01050432, 0.05147826, 0.09991672, 0.05033639]]])"
            ]
          },
          "metadata": {},
          "execution_count": 63
        }
      ]
    },
    {
      "cell_type": "markdown",
      "source": [
        "# Others"
      ],
      "metadata": {
        "id": "pUp7GoJxj_NQ"
      }
    },
    {
      "cell_type": "code",
      "source": [
        "array2"
      ],
      "metadata": {
        "colab": {
          "base_uri": "https://localhost:8080/"
        },
        "id": "AU3Q6Wd2szRz",
        "outputId": "8ff27a07-cb42-4836-d246-7e184b9979a6"
      },
      "execution_count": 64,
      "outputs": [
        {
          "output_type": "execute_result",
          "data": {
            "text/plain": [
              "array([[1, 2, 3, 4, 5],\n",
              "       [1, 2, 3, 4, 5],\n",
              "       [1, 2, 3, 4, 5]])"
            ]
          },
          "metadata": {},
          "execution_count": 64
        }
      ]
    },
    {
      "cell_type": "code",
      "source": [
        "array2[1:,:2]"
      ],
      "metadata": {
        "colab": {
          "base_uri": "https://localhost:8080/"
        },
        "id": "2ErPYlR4uRpV",
        "outputId": "dbb099e6-a023-4552-ce06-b12a626f3771"
      },
      "execution_count": 65,
      "outputs": [
        {
          "output_type": "execute_result",
          "data": {
            "text/plain": [
              "array([[1, 2],\n",
              "       [1, 2]])"
            ]
          },
          "metadata": {},
          "execution_count": 65
        }
      ]
    },
    {
      "cell_type": "code",
      "source": [
        "#check doc\n",
        "np.linspace(0,15,30)"
      ],
      "metadata": {
        "colab": {
          "base_uri": "https://localhost:8080/"
        },
        "id": "LCJHJNN8vgZz",
        "outputId": "df4ff0fe-f55b-4bb6-d863-e96609d9c83a"
      },
      "execution_count": 67,
      "outputs": [
        {
          "output_type": "execute_result",
          "data": {
            "text/plain": [
              "array([ 0.        ,  0.51724138,  1.03448276,  1.55172414,  2.06896552,\n",
              "        2.5862069 ,  3.10344828,  3.62068966,  4.13793103,  4.65517241,\n",
              "        5.17241379,  5.68965517,  6.20689655,  6.72413793,  7.24137931,\n",
              "        7.75862069,  8.27586207,  8.79310345,  9.31034483,  9.82758621,\n",
              "       10.34482759, 10.86206897, 11.37931034, 11.89655172, 12.4137931 ,\n",
              "       12.93103448, 13.44827586, 13.96551724, 14.48275862, 15.        ])"
            ]
          },
          "metadata": {},
          "execution_count": 67
        }
      ]
    },
    {
      "cell_type": "markdown",
      "source": [
        "*Copy function and broadcasting*"
      ],
      "metadata": {
        "id": "Uv0VhfyCa2_-"
      }
    },
    {
      "cell_type": "code",
      "source": [
        "array2[:2]=100"
      ],
      "metadata": {
        "id": "MlqfWzq9aUMn"
      },
      "execution_count": 69,
      "outputs": []
    },
    {
      "cell_type": "code",
      "source": [
        "array2"
      ],
      "metadata": {
        "colab": {
          "base_uri": "https://localhost:8080/"
        },
        "id": "xTSeNRgpau5u",
        "outputId": "e5c36079-07c7-4080-c05f-1c891ad01e38"
      },
      "execution_count": 70,
      "outputs": [
        {
          "output_type": "execute_result",
          "data": {
            "text/plain": [
              "array([100, 100,   2,   3,   4,   5,   6,   7,   8,   9,  10,  11,  12,\n",
              "        13,  14])"
            ]
          },
          "metadata": {},
          "execution_count": 70
        }
      ]
    },
    {
      "cell_type": "code",
      "source": [
        "value=10\n",
        "array2>value"
      ],
      "metadata": {
        "colab": {
          "base_uri": "https://localhost:8080/"
        },
        "id": "lrIOr8rva7Lh",
        "outputId": "69d0dda3-0252-4f6d-a4ac-eead567a405b"
      },
      "execution_count": 71,
      "outputs": [
        {
          "output_type": "execute_result",
          "data": {
            "text/plain": [
              "array([ True,  True, False, False, False, False, False, False, False,\n",
              "       False, False,  True,  True,  True,  True])"
            ]
          },
          "metadata": {},
          "execution_count": 71
        }
      ]
    },
    {
      "cell_type": "markdown",
      "source": [
        "*Check random distribution*\n"
      ],
      "metadata": {
        "id": "HVuStb96cZsi"
      }
    },
    {
      "cell_type": "code",
      "source": [
        "arrayNew=np.random.rand(5,5)"
      ],
      "metadata": {
        "id": "eN_eTm7xcuT8"
      },
      "execution_count": 72,
      "outputs": []
    },
    {
      "cell_type": "code",
      "source": [
        "arrayNew"
      ],
      "metadata": {
        "colab": {
          "base_uri": "https://localhost:8080/"
        },
        "id": "zrx6KRLCc1jj",
        "outputId": "a8bf5cab-caba-4be5-98a4-88778a8dffd0"
      },
      "execution_count": 73,
      "outputs": [
        {
          "output_type": "execute_result",
          "data": {
            "text/plain": [
              "array([[0.92973846, 0.79180845, 0.5121014 , 0.61980292, 0.24965141],\n",
              "       [0.66560846, 0.96355755, 0.21867609, 0.55222262, 0.43952558],\n",
              "       [0.45605363, 0.10623417, 0.84517014, 0.48722117, 0.09574654],\n",
              "       [0.62178087, 0.62578455, 0.89162294, 0.65534345, 0.43417911],\n",
              "       [0.88986526, 0.56473803, 0.70741507, 0.44683611, 0.25491262]])"
            ]
          },
          "metadata": {},
          "execution_count": 73
        }
      ]
    },
    {
      "cell_type": "code",
      "source": [
        "np.random.randint(0,100,10)"
      ],
      "metadata": {
        "colab": {
          "base_uri": "https://localhost:8080/"
        },
        "id": "n7-LrP98c_09",
        "outputId": "93f89b22-d589-4c7c-e101-141271115d6c"
      },
      "execution_count": 74,
      "outputs": [
        {
          "output_type": "execute_result",
          "data": {
            "text/plain": [
              "array([ 9, 74, 48, 37, 89, 52, 34, 62, 77, 76])"
            ]
          },
          "metadata": {},
          "execution_count": 74
        }
      ]
    },
    {
      "cell_type": "code",
      "source": [
        "np.random.random_sample((2,5)) #2()=> remember!"
      ],
      "metadata": {
        "colab": {
          "base_uri": "https://localhost:8080/"
        },
        "id": "LKb-Z5O7dIav",
        "outputId": "f6cc561d-8a37-45af-9716-199ad51a3e4e"
      },
      "execution_count": 75,
      "outputs": [
        {
          "output_type": "execute_result",
          "data": {
            "text/plain": [
              "array([[0.58757128, 0.13410828, 0.59185894, 0.8209573 , 0.44804572],\n",
              "       [0.18754803, 0.40554974, 0.65349021, 0.16539276, 0.34981325]])"
            ]
          },
          "metadata": {},
          "execution_count": 75
        }
      ]
    }
  ]
}