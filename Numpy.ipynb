{
  "nbformat": 4,
  "nbformat_minor": 0,
  "metadata": {
    "colab": {
      "provenance": [],
      "authorship_tag": "ABX9TyNIg63Zqwax25jNHLsvW3sC",
      "include_colab_link": true
    },
    "kernelspec": {
      "name": "python3",
      "display_name": "Python 3"
    },
    "language_info": {
      "name": "python"
    }
  },
  "cells": [
    {
      "cell_type": "markdown",
      "metadata": {
        "id": "view-in-github",
        "colab_type": "text"
      },
      "source": [
        "<a href=\"https://colab.research.google.com/github/MariamChowdhury/MachineLearning/blob/main/Numpy.ipynb\" target=\"_parent\"><img src=\"https://colab.research.google.com/assets/colab-badge.svg\" alt=\"Open In Colab\"/></a>"
      ]
    },
    {
      "cell_type": "markdown",
      "source": [
        "# Import"
      ],
      "metadata": {
        "id": "kiSaFXQ0lLox"
      }
    },
    {
      "cell_type": "code",
      "source": [
        "import numpy as np"
      ],
      "metadata": {
        "id": "FbMh2yUWlcin"
      },
      "execution_count": 1,
      "outputs": []
    },
    {
      "cell_type": "markdown",
      "source": [
        "# Others"
      ],
      "metadata": {
        "id": "pUp7GoJxj_NQ"
      }
    },
    {
      "cell_type": "code",
      "source": [
        "list1=[1,2,3,4,5]\n",
        "np.array(list1)\n",
        "type(np.array(list1))"
      ],
      "metadata": {
        "colab": {
          "base_uri": "https://localhost:8080/"
        },
        "id": "1R8AmbcTrCkQ",
        "outputId": "c4069a90-6686-491a-8ed7-1bb1a7807a9a"
      },
      "execution_count": 4,
      "outputs": [
        {
          "output_type": "execute_result",
          "data": {
            "text/plain": [
              "numpy.ndarray"
            ]
          },
          "metadata": {},
          "execution_count": 4
        }
      ]
    },
    {
      "cell_type": "code",
      "source": [
        "array1=np.array(list1)\n",
        "type(array1)"
      ],
      "metadata": {
        "colab": {
          "base_uri": "https://localhost:8080/"
        },
        "id": "12yOqLHvrwuD",
        "outputId": "8f4cfd2c-fa60-45fe-8c30-35469ec5a793"
      },
      "execution_count": 5,
      "outputs": [
        {
          "output_type": "execute_result",
          "data": {
            "text/plain": [
              "numpy.ndarray"
            ]
          },
          "metadata": {},
          "execution_count": 5
        }
      ]
    },
    {
      "cell_type": "code",
      "source": [
        "array1 #1D array => 1[]"
      ],
      "metadata": {
        "colab": {
          "base_uri": "https://localhost:8080/"
        },
        "id": "br7Ej_q5r1il",
        "outputId": "eca896d7-da8f-4a93-c4c4-cc727a72dac4"
      },
      "execution_count": 6,
      "outputs": [
        {
          "output_type": "execute_result",
          "data": {
            "text/plain": [
              "array([1, 2, 3, 4, 5])"
            ]
          },
          "metadata": {},
          "execution_count": 6
        }
      ]
    },
    {
      "cell_type": "code",
      "source": [
        "list2=[1,2,3,4,5]\n",
        "list3=[1,2,3,4,5]\n",
        "array2=np.array([list1,list2,list3])\n",
        "array2 #2D array => 2[]"
      ],
      "metadata": {
        "colab": {
          "base_uri": "https://localhost:8080/"
        },
        "id": "a1eOeaOZr_0J",
        "outputId": "6915d4b1-cba1-43de-c374-f3d833810f25"
      },
      "execution_count": 7,
      "outputs": [
        {
          "output_type": "execute_result",
          "data": {
            "text/plain": [
              "array([[1, 2, 3, 4, 5],\n",
              "       [1, 2, 3, 4, 5],\n",
              "       [1, 2, 3, 4, 5]])"
            ]
          },
          "metadata": {},
          "execution_count": 7
        }
      ]
    },
    {
      "cell_type": "code",
      "source": [
        "array2.shape"
      ],
      "metadata": {
        "colab": {
          "base_uri": "https://localhost:8080/"
        },
        "id": "1D1m_DkGsXgV",
        "outputId": "0f911ba0-57ec-4288-bc2c-b280b5c04e52"
      },
      "execution_count": 8,
      "outputs": [
        {
          "output_type": "execute_result",
          "data": {
            "text/plain": [
              "(3, 5)"
            ]
          },
          "metadata": {},
          "execution_count": 8
        }
      ]
    },
    {
      "cell_type": "code",
      "source": [
        "array2.reshape(5,3)"
      ],
      "metadata": {
        "colab": {
          "base_uri": "https://localhost:8080/"
        },
        "id": "PmlifWJ_sevt",
        "outputId": "40b16fa0-4103-4bfb-cb00-952b3334f68a"
      },
      "execution_count": 9,
      "outputs": [
        {
          "output_type": "execute_result",
          "data": {
            "text/plain": [
              "array([[1, 2, 3],\n",
              "       [4, 5, 1],\n",
              "       [2, 3, 4],\n",
              "       [5, 1, 2],\n",
              "       [3, 4, 5]])"
            ]
          },
          "metadata": {},
          "execution_count": 9
        }
      ]
    },
    {
      "cell_type": "code",
      "source": [
        "array2.reshape(15,1)"
      ],
      "metadata": {
        "colab": {
          "base_uri": "https://localhost:8080/"
        },
        "id": "KFA-mAcksuMg",
        "outputId": "9bd8f52c-b38e-4ce7-bb20-eb091e219e07"
      },
      "execution_count": 10,
      "outputs": [
        {
          "output_type": "execute_result",
          "data": {
            "text/plain": [
              "array([[1],\n",
              "       [2],\n",
              "       [3],\n",
              "       [4],\n",
              "       [5],\n",
              "       [1],\n",
              "       [2],\n",
              "       [3],\n",
              "       [4],\n",
              "       [5],\n",
              "       [1],\n",
              "       [2],\n",
              "       [3],\n",
              "       [4],\n",
              "       [5]])"
            ]
          },
          "metadata": {},
          "execution_count": 10
        }
      ]
    },
    {
      "cell_type": "code",
      "source": [
        "array2.reshape(15,3)"
      ],
      "metadata": {
        "colab": {
          "base_uri": "https://localhost:8080/",
          "height": 171
        },
        "id": "U0ooXPkMsw36",
        "outputId": "65555020-b63f-48f7-b1be-977ed82e9231"
      },
      "execution_count": 11,
      "outputs": [
        {
          "output_type": "error",
          "ename": "ValueError",
          "evalue": "ignored",
          "traceback": [
            "\u001b[0;31m---------------------------------------------------------------------------\u001b[0m",
            "\u001b[0;31mValueError\u001b[0m                                Traceback (most recent call last)",
            "\u001b[0;32m<ipython-input-11-b6d138d24037>\u001b[0m in \u001b[0;36m<module>\u001b[0;34m\u001b[0m\n\u001b[0;32m----> 1\u001b[0;31m \u001b[0marray2\u001b[0m\u001b[0;34m.\u001b[0m\u001b[0mreshape\u001b[0m\u001b[0;34m(\u001b[0m\u001b[0;36m15\u001b[0m\u001b[0;34m,\u001b[0m\u001b[0;36m3\u001b[0m\u001b[0;34m)\u001b[0m\u001b[0;34m\u001b[0m\u001b[0;34m\u001b[0m\u001b[0m\n\u001b[0m",
            "\u001b[0;31mValueError\u001b[0m: cannot reshape array of size 15 into shape (15,3)"
          ]
        }
      ]
    },
    {
      "cell_type": "code",
      "source": [
        "array2"
      ],
      "metadata": {
        "colab": {
          "base_uri": "https://localhost:8080/"
        },
        "id": "AU3Q6Wd2szRz",
        "outputId": "b571dc80-00f0-4b21-cfdf-c392448265f5"
      },
      "execution_count": 12,
      "outputs": [
        {
          "output_type": "execute_result",
          "data": {
            "text/plain": [
              "array([[1, 2, 3, 4, 5],\n",
              "       [1, 2, 3, 4, 5],\n",
              "       [1, 2, 3, 4, 5]])"
            ]
          },
          "metadata": {},
          "execution_count": 12
        }
      ]
    },
    {
      "cell_type": "code",
      "source": [
        "array2[1:,:2]"
      ],
      "metadata": {
        "colab": {
          "base_uri": "https://localhost:8080/"
        },
        "id": "2ErPYlR4uRpV",
        "outputId": "a87fecf7-085d-4168-e2d9-95dc2a82390d"
      },
      "execution_count": 13,
      "outputs": [
        {
          "output_type": "execute_result",
          "data": {
            "text/plain": [
              "array([[1, 2],\n",
              "       [1, 2]])"
            ]
          },
          "metadata": {},
          "execution_count": 13
        }
      ]
    },
    {
      "cell_type": "code",
      "source": [
        "array2=np.arange(0,15)"
      ],
      "metadata": {
        "id": "MjRklkERuqbL"
      },
      "execution_count": 14,
      "outputs": []
    },
    {
      "cell_type": "code",
      "source": [
        "array2"
      ],
      "metadata": {
        "colab": {
          "base_uri": "https://localhost:8080/"
        },
        "id": "xFh9dUSYvSaz",
        "outputId": "110f5efc-9b21-4f55-c1ed-108db1cdd8d6"
      },
      "execution_count": 15,
      "outputs": [
        {
          "output_type": "execute_result",
          "data": {
            "text/plain": [
              "array([ 0,  1,  2,  3,  4,  5,  6,  7,  8,  9, 10, 11, 12, 13, 14])"
            ]
          },
          "metadata": {},
          "execution_count": 15
        }
      ]
    },
    {
      "cell_type": "code",
      "source": [
        "array2=np.arange(0,15, step=3)"
      ],
      "metadata": {
        "id": "NPJ73tGVvXTe"
      },
      "execution_count": 16,
      "outputs": []
    },
    {
      "cell_type": "code",
      "source": [
        "array2"
      ],
      "metadata": {
        "id": "khlyC9C6velN"
      },
      "execution_count": null,
      "outputs": []
    },
    {
      "cell_type": "code",
      "source": [
        "np.linspace(0,15,30)"
      ],
      "metadata": {
        "id": "LCJHJNN8vgZz"
      },
      "execution_count": null,
      "outputs": []
    },
    {
      "cell_type": "markdown",
      "source": [
        "Copy function and broadcasting"
      ],
      "metadata": {
        "id": "Uv0VhfyCa2_-"
      }
    },
    {
      "cell_type": "code",
      "source": [
        "array2[:2]=100"
      ],
      "metadata": {
        "id": "MlqfWzq9aUMn"
      },
      "execution_count": null,
      "outputs": []
    },
    {
      "cell_type": "code",
      "source": [
        "array2"
      ],
      "metadata": {
        "id": "xTSeNRgpau5u"
      },
      "execution_count": null,
      "outputs": []
    },
    {
      "cell_type": "code",
      "source": [
        "value=10\n",
        "array2>value"
      ],
      "metadata": {
        "id": "lrIOr8rva7Lh"
      },
      "execution_count": null,
      "outputs": []
    },
    {
      "cell_type": "markdown",
      "source": [
        "Check random distribution later\n"
      ],
      "metadata": {
        "id": "HVuStb96cZsi"
      }
    },
    {
      "cell_type": "code",
      "source": [
        "arrayNew=np.random.rand(5,5)"
      ],
      "metadata": {
        "id": "eN_eTm7xcuT8"
      },
      "execution_count": null,
      "outputs": []
    },
    {
      "cell_type": "code",
      "source": [
        "arrayNew"
      ],
      "metadata": {
        "id": "zrx6KRLCc1jj"
      },
      "execution_count": null,
      "outputs": []
    },
    {
      "cell_type": "code",
      "source": [
        "np.random.randint(0,100,10)"
      ],
      "metadata": {
        "id": "n7-LrP98c_09"
      },
      "execution_count": null,
      "outputs": []
    },
    {
      "cell_type": "code",
      "source": [
        "np.random.random_sample((2,5)) #2()=> remember!"
      ],
      "metadata": {
        "id": "LKb-Z5O7dIav"
      },
      "execution_count": null,
      "outputs": []
    },
    {
      "cell_type": "markdown",
      "source": [
        "# CRUD "
      ],
      "metadata": {
        "id": "sOcEkbrOjcsh"
      }
    },
    {
      "cell_type": "markdown",
      "source": [
        "*Create*"
      ],
      "metadata": {
        "id": "9FN-13JXjjww"
      }
    },
    {
      "cell_type": "code",
      "source": [
        "arrayRandom=np.random.rand(2,3,4)"
      ],
      "metadata": {
        "id": "Z9R4fVEOj1DO"
      },
      "execution_count": 2,
      "outputs": []
    },
    {
      "cell_type": "code",
      "source": [
        "arrayRandom"
      ],
      "metadata": {
        "colab": {
          "base_uri": "https://localhost:8080/"
        },
        "id": "GJlNete1lg2A",
        "outputId": "d602e3d8-99f8-48c9-8e55-9cf5d8a6d858"
      },
      "execution_count": 3,
      "outputs": [
        {
          "output_type": "execute_result",
          "data": {
            "text/plain": [
              "array([[[0.80211436, 0.27482113, 0.01018891, 0.53651254],\n",
              "        [0.28792245, 0.05927613, 0.87305872, 0.30572756],\n",
              "        [0.29609484, 0.32964609, 0.07920667, 0.90126202]],\n",
              "\n",
              "       [[0.04505812, 0.66468943, 0.28750462, 0.75420097],\n",
              "        [0.37806938, 0.68040294, 0.10208704, 0.74914951],\n",
              "        [0.38609001, 0.47044189, 0.39423006, 0.11071075]]])"
            ]
          },
          "metadata": {},
          "execution_count": 3
        }
      ]
    },
    {
      "cell_type": "markdown",
      "source": [
        "*Read*"
      ],
      "metadata": {
        "id": "Q_dgvTS4joJc"
      }
    },
    {
      "cell_type": "markdown",
      "source": [
        "*Update*"
      ],
      "metadata": {
        "id": "TN_V6kiKjtqW"
      }
    },
    {
      "cell_type": "markdown",
      "source": [
        "*Delete*"
      ],
      "metadata": {
        "id": "AgTq2rDmjxdO"
      }
    }
  ]
}